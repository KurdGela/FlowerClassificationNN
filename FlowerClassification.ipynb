{
 "cells": [
  {
   "cell_type": "code",
   "execution_count": null,
   "id": "f99babb1",
   "metadata": {},
   "outputs": [],
   "source": [
    "# Imports\n",
    "import tensorflow as tf\n",
    "from tensorflow.keras import layers, models\n",
    "import numpy as np\n",
    "import matplotlib.pyplot as plt\n",
    "import os\n",
    "import tensorflow_datasets as tfds\n"
   ]
  },
  {
   "cell_type": "code",
   "execution_count": null,
   "id": "415b38bf",
   "metadata": {},
   "outputs": [],
   "source": [
    "# Version check\n",
    "import google.protobuf\n",
    "\n",
    "print(\"TF:\", tf.__version__)\n",
    "print(\"TFDS:\", tfds.__version__)\n",
    "print(\"protobuf:\", google.protobuf.__version__)\n"
   ]
  },
  {
   "cell_type": "code",
   "execution_count": null,
   "id": "c472c078",
   "metadata": {},
   "outputs": [],
   "source": [
    "# Dataset load\n",
    "dataset, info = tfds.load(\"tf_flowers\", with_info=True, as_supervised=True)\n",
    "train_ds = dataset[\"train\"]\n",
    "print(info)\n"
   ]
  },
  {
   "cell_type": "code",
   "execution_count": null,
   "id": "61f1ef21",
   "metadata": {},
   "outputs": [],
   "source": [
    "# Preprocessing\n",
    "IMG_SIZE = 224   # standard input size for many pretrained models\n",
    "BATCH_SIZE = 32  # how many images to feed the model at once\n",
    "\n",
    "# Function to resize and normalize each image\n",
    "def format_example(image, label):\n",
    "    image = tf.image.resize(image, (IMG_SIZE, IMG_SIZE))  # resize to 224x224\n",
    "    image = image / 255.0  # normalize pixel values [0,255] -> [0,1]\n",
    "    return image, label\n",
    "\n",
    "# Apply preprocessing to the dataset\n",
    "train_ds = train_ds.map(format_example)\n",
    "\n",
    "# Shuffle and batch the data\n",
    "train_ds = train_ds.shuffle(1000).batch(BATCH_SIZE).prefetch(tf.data.AUTOTUNE)\n"
   ]
  },
  {
   "cell_type": "code",
   "execution_count": null,
   "id": "ea04b110",
   "metadata": {},
   "outputs": [],
   "source": [
    "# Visualization of sample images\n",
    "# Take one batch from the dataset\n",
    "for images, labels in train_ds.take(1):\n",
    "    plt.figure(figsize=(10, 10))\n",
    "    \n",
    "    for i in range(9):  # show 9 images\n",
    "        ax = plt.subplot(3, 3, i + 1)\n",
    "        plt.imshow(images[i].numpy())  # convert Tensor to NumPy for plotting\n",
    "        plt.title(int(labels[i].numpy()))  # show class index as title\n",
    "        plt.axis(\"off\")\n"
   ]
  },
  {
   "cell_type": "code",
   "execution_count": null,
   "id": "90646d72",
   "metadata": {},
   "outputs": [],
   "source": [
    "from tensorflow.keras.applications import EfficientNetB0\n",
    "from tensorflow.keras import Sequential, optimizers\n",
    "\n",
    "# Number of flower classes (from dataset info)\n",
    "num_classes = info.features[\"label\"].num_classes\n",
    "print(\"Number of classes:\", num_classes)\n",
    "\n",
    "# Load EfficientNetB0 base model (pretrained on ImageNet)\n",
    "base_model = EfficientNetB0(\n",
    "    weights=\"imagenet\",        # use pretrained weights\n",
    "    include_top=False,         # exclude the original ImageNet classifier\n",
    "    input_shape=(IMG_SIZE, IMG_SIZE, 3)\n",
    ")\n",
    "\n",
    "# Freeze the base model (so its weights don't change initially)\n",
    "base_model.trainable = False\n",
    "\n",
    "# Build our custom model on top\n",
    "model = Sequential([\n",
    "    base_model,\n",
    "    layers.GlobalAveragePooling2D(),        # reduce features\n",
    "    layers.Dropout(0.5),                    # prevent overfitting\n",
    "    layers.Dense(num_classes, activation=\"softmax\")  # output layer\n",
    "])\n",
    "\n",
    "# Compile the model\n",
    "model.compile(\n",
    "    optimizer=optimizers.Adam(learning_rate=1e-4),\n",
    "    loss=\"sparse_categorical_crossentropy\",\n",
    "    metrics=[\"accuracy\"]\n",
    ")\n",
    "\n",
    "# Summary of the architecture\n",
    "model.summary()\n"
   ]
  },
  {
   "cell_type": "code",
   "execution_count": 13,
   "id": "bb58c2df",
   "metadata": {},
   "outputs": [
    {
     "name": "stdout",
     "output_type": "stream",
     "text": [
      "Training samples: 2936\n",
      "Validation samples: 734\n"
     ]
    }
   ],
   "source": [
    "# Split dataset: 80% train, 20% validation\n",
    "train_size = int(0.8 * len(list(train_ds.unbatch())))\n",
    "val_size = int(0.2 * len(list(train_ds.unbatch())))\n",
    "\n",
    "train_ds_split = train_ds.take(train_size)\n",
    "val_ds_split = train_ds.skip(train_size).take(val_size)\n",
    "\n",
    "print(\"Training samples:\", train_size)\n",
    "print(\"Validation samples:\", val_size)\n"
   ]
  },
  {
   "cell_type": "code",
   "execution_count": 14,
   "id": "81a9ab93",
   "metadata": {},
   "outputs": [],
   "source": [
    "from tensorflow.keras.callbacks import EarlyStopping, ModelCheckpoint\n",
    "\n",
    "callbacks = [\n",
    "    EarlyStopping(\n",
    "        monitor=\"val_accuracy\",    # stop if val accuracy doesn't improve\n",
    "        patience=3,                # wait 3 epochs before stopping\n",
    "        restore_best_weights=True  # roll back to best weights\n",
    "    ),\n",
    "    ModelCheckpoint(\n",
    "        filepath=\"best_model.h5\",  # save the best model to file\n",
    "        monitor=\"val_accuracy\",\n",
    "        save_best_only=True,\n",
    "        verbose=1\n",
    "    )\n",
    "]\n"
   ]
  },
  {
   "cell_type": "code",
   "execution_count": 15,
   "id": "af906f17",
   "metadata": {},
   "outputs": [
    {
     "name": "stdout",
     "output_type": "stream",
     "text": [
      "Epoch 1/10\n",
      "115/115 [==============================] - ETA: 0s - loss: 1.6444 - accuracy: 0.2041WARNING:tensorflow:Early stopping conditioned on metric `val_accuracy` which is not available. Available metrics are: loss,accuracy\n"
     ]
    },
    {
     "name": "stderr",
     "output_type": "stream",
     "text": [
      "WARNING:tensorflow:Early stopping conditioned on metric `val_accuracy` which is not available. Available metrics are: loss,accuracy\n"
     ]
    },
    {
     "name": "stdout",
     "output_type": "stream",
     "text": [
      "WARNING:tensorflow:Can save best model only with val_accuracy available, skipping.\n"
     ]
    },
    {
     "name": "stderr",
     "output_type": "stream",
     "text": [
      "WARNING:tensorflow:Can save best model only with val_accuracy available, skipping.\n"
     ]
    },
    {
     "name": "stdout",
     "output_type": "stream",
     "text": [
      "115/115 [==============================] - 90s 716ms/step - loss: 1.6444 - accuracy: 0.2041\n",
      "Epoch 2/10\n",
      "115/115 [==============================] - ETA: 0s - loss: 1.6296 - accuracy: 0.2253WARNING:tensorflow:Early stopping conditioned on metric `val_accuracy` which is not available. Available metrics are: loss,accuracy\n"
     ]
    },
    {
     "name": "stderr",
     "output_type": "stream",
     "text": [
      "WARNING:tensorflow:Early stopping conditioned on metric `val_accuracy` which is not available. Available metrics are: loss,accuracy\n"
     ]
    },
    {
     "name": "stdout",
     "output_type": "stream",
     "text": [
      "WARNING:tensorflow:Can save best model only with val_accuracy available, skipping.\n"
     ]
    },
    {
     "name": "stderr",
     "output_type": "stream",
     "text": [
      "WARNING:tensorflow:Can save best model only with val_accuracy available, skipping.\n"
     ]
    },
    {
     "name": "stdout",
     "output_type": "stream",
     "text": [
      "115/115 [==============================] - 83s 722ms/step - loss: 1.6296 - accuracy: 0.2253\n",
      "Epoch 3/10\n",
      "115/115 [==============================] - ETA: 0s - loss: 1.6231 - accuracy: 0.2401WARNING:tensorflow:Early stopping conditioned on metric `val_accuracy` which is not available. Available metrics are: loss,accuracy\n"
     ]
    },
    {
     "name": "stderr",
     "output_type": "stream",
     "text": [
      "WARNING:tensorflow:Early stopping conditioned on metric `val_accuracy` which is not available. Available metrics are: loss,accuracy\n"
     ]
    },
    {
     "name": "stdout",
     "output_type": "stream",
     "text": [
      "WARNING:tensorflow:Can save best model only with val_accuracy available, skipping.\n"
     ]
    },
    {
     "name": "stderr",
     "output_type": "stream",
     "text": [
      "WARNING:tensorflow:Can save best model only with val_accuracy available, skipping.\n"
     ]
    },
    {
     "name": "stdout",
     "output_type": "stream",
     "text": [
      "115/115 [==============================] - 83s 723ms/step - loss: 1.6231 - accuracy: 0.2401\n",
      "Epoch 4/10\n",
      "115/115 [==============================] - ETA: 0s - loss: 1.6362 - accuracy: 0.2136WARNING:tensorflow:Early stopping conditioned on metric `val_accuracy` which is not available. Available metrics are: loss,accuracy\n"
     ]
    },
    {
     "name": "stderr",
     "output_type": "stream",
     "text": [
      "WARNING:tensorflow:Early stopping conditioned on metric `val_accuracy` which is not available. Available metrics are: loss,accuracy\n"
     ]
    },
    {
     "name": "stdout",
     "output_type": "stream",
     "text": [
      "WARNING:tensorflow:Can save best model only with val_accuracy available, skipping.\n"
     ]
    },
    {
     "name": "stderr",
     "output_type": "stream",
     "text": [
      "WARNING:tensorflow:Can save best model only with val_accuracy available, skipping.\n"
     ]
    },
    {
     "name": "stdout",
     "output_type": "stream",
     "text": [
      "115/115 [==============================] - 82s 711ms/step - loss: 1.6362 - accuracy: 0.2136\n",
      "Epoch 5/10\n",
      "115/115 [==============================] - ETA: 0s - loss: 1.6311 - accuracy: 0.2223WARNING:tensorflow:Early stopping conditioned on metric `val_accuracy` which is not available. Available metrics are: loss,accuracy\n"
     ]
    },
    {
     "name": "stderr",
     "output_type": "stream",
     "text": [
      "WARNING:tensorflow:Early stopping conditioned on metric `val_accuracy` which is not available. Available metrics are: loss,accuracy\n"
     ]
    },
    {
     "name": "stdout",
     "output_type": "stream",
     "text": [
      "WARNING:tensorflow:Can save best model only with val_accuracy available, skipping.\n"
     ]
    },
    {
     "name": "stderr",
     "output_type": "stream",
     "text": [
      "WARNING:tensorflow:Can save best model only with val_accuracy available, skipping.\n"
     ]
    },
    {
     "name": "stdout",
     "output_type": "stream",
     "text": [
      "115/115 [==============================] - 91s 789ms/step - loss: 1.6311 - accuracy: 0.2223\n",
      "Epoch 6/10\n",
      "115/115 [==============================] - ETA: 0s - loss: 1.6327 - accuracy: 0.2139WARNING:tensorflow:Early stopping conditioned on metric `val_accuracy` which is not available. Available metrics are: loss,accuracy\n"
     ]
    },
    {
     "name": "stderr",
     "output_type": "stream",
     "text": [
      "WARNING:tensorflow:Early stopping conditioned on metric `val_accuracy` which is not available. Available metrics are: loss,accuracy\n"
     ]
    },
    {
     "name": "stdout",
     "output_type": "stream",
     "text": [
      "WARNING:tensorflow:Can save best model only with val_accuracy available, skipping.\n"
     ]
    },
    {
     "name": "stderr",
     "output_type": "stream",
     "text": [
      "WARNING:tensorflow:Can save best model only with val_accuracy available, skipping.\n"
     ]
    },
    {
     "name": "stdout",
     "output_type": "stream",
     "text": [
      "115/115 [==============================] - 90s 778ms/step - loss: 1.6327 - accuracy: 0.2139\n",
      "Epoch 7/10\n",
      "115/115 [==============================] - ETA: 0s - loss: 1.6355 - accuracy: 0.2153WARNING:tensorflow:Early stopping conditioned on metric `val_accuracy` which is not available. Available metrics are: loss,accuracy\n"
     ]
    },
    {
     "name": "stderr",
     "output_type": "stream",
     "text": [
      "WARNING:tensorflow:Early stopping conditioned on metric `val_accuracy` which is not available. Available metrics are: loss,accuracy\n"
     ]
    },
    {
     "name": "stdout",
     "output_type": "stream",
     "text": [
      "WARNING:tensorflow:Can save best model only with val_accuracy available, skipping.\n"
     ]
    },
    {
     "name": "stderr",
     "output_type": "stream",
     "text": [
      "WARNING:tensorflow:Can save best model only with val_accuracy available, skipping.\n"
     ]
    },
    {
     "name": "stdout",
     "output_type": "stream",
     "text": [
      "115/115 [==============================] - 86s 747ms/step - loss: 1.6355 - accuracy: 0.2153\n",
      "Epoch 8/10\n",
      "115/115 [==============================] - ETA: 0s - loss: 1.6277 - accuracy: 0.2193WARNING:tensorflow:Early stopping conditioned on metric `val_accuracy` which is not available. Available metrics are: loss,accuracy\n"
     ]
    },
    {
     "name": "stderr",
     "output_type": "stream",
     "text": [
      "WARNING:tensorflow:Early stopping conditioned on metric `val_accuracy` which is not available. Available metrics are: loss,accuracy\n"
     ]
    },
    {
     "name": "stdout",
     "output_type": "stream",
     "text": [
      "WARNING:tensorflow:Can save best model only with val_accuracy available, skipping.\n"
     ]
    },
    {
     "name": "stderr",
     "output_type": "stream",
     "text": [
      "WARNING:tensorflow:Can save best model only with val_accuracy available, skipping.\n"
     ]
    },
    {
     "name": "stdout",
     "output_type": "stream",
     "text": [
      "115/115 [==============================] - 82s 713ms/step - loss: 1.6277 - accuracy: 0.2193\n",
      "Epoch 9/10\n",
      "115/115 [==============================] - ETA: 0s - loss: 1.6312 - accuracy: 0.2262WARNING:tensorflow:Early stopping conditioned on metric `val_accuracy` which is not available. Available metrics are: loss,accuracy\n"
     ]
    },
    {
     "name": "stderr",
     "output_type": "stream",
     "text": [
      "WARNING:tensorflow:Early stopping conditioned on metric `val_accuracy` which is not available. Available metrics are: loss,accuracy\n"
     ]
    },
    {
     "name": "stdout",
     "output_type": "stream",
     "text": [
      "WARNING:tensorflow:Can save best model only with val_accuracy available, skipping.\n"
     ]
    },
    {
     "name": "stderr",
     "output_type": "stream",
     "text": [
      "WARNING:tensorflow:Can save best model only with val_accuracy available, skipping.\n"
     ]
    },
    {
     "name": "stdout",
     "output_type": "stream",
     "text": [
      "115/115 [==============================] - 83s 721ms/step - loss: 1.6312 - accuracy: 0.2262\n",
      "Epoch 10/10\n",
      "115/115 [==============================] - ETA: 0s - loss: 1.6253 - accuracy: 0.2341WARNING:tensorflow:Early stopping conditioned on metric `val_accuracy` which is not available. Available metrics are: loss,accuracy\n"
     ]
    },
    {
     "name": "stderr",
     "output_type": "stream",
     "text": [
      "WARNING:tensorflow:Early stopping conditioned on metric `val_accuracy` which is not available. Available metrics are: loss,accuracy\n"
     ]
    },
    {
     "name": "stdout",
     "output_type": "stream",
     "text": [
      "WARNING:tensorflow:Can save best model only with val_accuracy available, skipping.\n"
     ]
    },
    {
     "name": "stderr",
     "output_type": "stream",
     "text": [
      "WARNING:tensorflow:Can save best model only with val_accuracy available, skipping.\n"
     ]
    },
    {
     "name": "stdout",
     "output_type": "stream",
     "text": [
      "115/115 [==============================] - 82s 715ms/step - loss: 1.6253 - accuracy: 0.2341\n"
     ]
    }
   ],
   "source": [
    "history = model.fit(\n",
    "    train_ds_split,\n",
    "    validation_data=val_ds_split,\n",
    "    epochs=10,\n",
    "    callbacks=callbacks\n",
    ")\n"
   ]
  }
 ],
 "metadata": {
  "kernelspec": {
   "display_name": "Python (flower-env)",
   "language": "python",
   "name": "flower-env"
  },
  "language_info": {
   "codemirror_mode": {
    "name": "ipython",
    "version": 3
   },
   "file_extension": ".py",
   "mimetype": "text/x-python",
   "name": "python",
   "nbconvert_exporter": "python",
   "pygments_lexer": "ipython3",
   "version": "3.10.11"
  }
 },
 "nbformat": 4,
 "nbformat_minor": 5
}
