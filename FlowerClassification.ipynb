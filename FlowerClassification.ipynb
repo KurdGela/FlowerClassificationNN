{
 "cells": [
  {
   "cell_type": "code",
   "execution_count": null,
   "id": "f99babb1",
   "metadata": {},
   "outputs": [],
   "source": [
    "# Imports\n",
    "import tensorflow as tf\n",
    "from tensorflow.keras import layers, models\n",
    "import numpy as np\n",
    "import matplotlib.pyplot as plt\n",
    "import os\n",
    "import tensorflow_datasets as tfds\n"
   ]
  },
  {
   "cell_type": "code",
   "execution_count": null,
   "id": "415b38bf",
   "metadata": {},
   "outputs": [],
   "source": [
    "# Version check\n",
    "import google.protobuf\n",
    "\n",
    "print(\"TF:\", tf.__version__)\n",
    "print(\"TFDS:\", tfds.__version__)\n",
    "print(\"protobuf:\", google.protobuf.__version__)\n"
   ]
  },
  {
   "cell_type": "code",
   "execution_count": null,
   "id": "c472c078",
   "metadata": {},
   "outputs": [],
   "source": [
    "# Dataset load\n",
    "# Reload dataset with a proper 80/20 split\n",
    "(train_ds, val_ds), info = tfds.load(\n",
    "    \"tf_flowers\",\n",
    "    split=[\"train[:80%]\", \"train[80%:]\"],  # 80% train, 20% validation\n",
    "    with_info=True,\n",
    "    as_supervised=True\n",
    ")\n"
   ]
  },
  {
   "cell_type": "code",
   "execution_count": null,
   "id": "61f1ef21",
   "metadata": {},
   "outputs": [],
   "source": [
    "# Preprocessing\n",
    "IMG_SIZE = 224   # standard input size for many pretrained models\n",
    "BATCH_SIZE = 32  # how many images to feed the model at once\n",
    "\n",
    "# Function to resize and normalize each image\n",
    "def format_example(image, label):\n",
    "    image = tf.image.resize(image, (IMG_SIZE, IMG_SIZE))  # resize to 224x224\n",
    "    image = image / 255.0  # normalize pixel values [0,255] -> [0,1]\n",
    "    return image, label\n",
    "\n",
    "# Apply preprocessing to the dataset and shuffle and batch the data\n",
    "train_ds = train_ds.map(format_example).shuffle(1000).batch(BATCH_SIZE).prefetch(tf.data.AUTOTUNE)\n",
    "\n",
    "val_ds = val_ds.map(format_example).batch(BATCH_SIZE).prefetch(tf.data.AUTOTUNE)\n"
   ]
  },
  {
   "cell_type": "code",
   "execution_count": null,
   "id": "ea04b110",
   "metadata": {},
   "outputs": [],
   "source": [
    "# Visualization of sample images\n",
    "# Take one batch from the dataset\n",
    "for images, labels in train_ds.take(1):\n",
    "    plt.figure(figsize=(10, 10))\n",
    "    \n",
    "    for i in range(9):  # show 9 images\n",
    "        ax = plt.subplot(3, 3, i + 1)\n",
    "        plt.imshow(images[i].numpy())  # convert Tensor to NumPy for plotting\n",
    "        plt.title(int(labels[i].numpy()))  # show class index as title\n",
    "        plt.axis(\"off\")\n"
   ]
  },
  {
   "cell_type": "code",
   "execution_count": null,
   "id": "90646d72",
   "metadata": {},
   "outputs": [],
   "source": [
    "from tensorflow.keras.applications import EfficientNetB0\n",
    "from tensorflow.keras import Sequential, optimizers\n",
    "\n",
    "# Number of flower classes (from dataset info)\n",
    "num_classes = info.features[\"label\"].num_classes\n",
    "print(\"Number of classes:\", num_classes)\n",
    "\n",
    "# Load EfficientNetB0 base model (pretrained on ImageNet)\n",
    "base_model = EfficientNetB0(\n",
    "    weights=\"imagenet\",        # use pretrained weights\n",
    "    include_top=False,         # exclude the original ImageNet classifier\n",
    "    input_shape=(IMG_SIZE, IMG_SIZE, 3)\n",
    ")\n",
    "\n",
    "# Freeze the base model (so its weights don't change initially)\n",
    "base_model.trainable = False\n",
    "\n",
    "# Build our custom model on top\n",
    "model = Sequential([\n",
    "    base_model,\n",
    "    layers.GlobalAveragePooling2D(),        # reduce features\n",
    "    layers.Dropout(0.5),                    # prevent overfitting\n",
    "    layers.Dense(num_classes, activation=\"softmax\")  # output layer\n",
    "])\n",
    "\n",
    "# Compile the model\n",
    "model.compile(\n",
    "    optimizer=optimizers.Adam(learning_rate=1e-4),\n",
    "    loss=\"sparse_categorical_crossentropy\",\n",
    "    metrics=[\"accuracy\"]\n",
    ")\n",
    "\n",
    "# Summary of the architecture\n",
    "model.summary()\n"
   ]
  },
  {
   "cell_type": "code",
   "execution_count": 22,
   "id": "81a9ab93",
   "metadata": {},
   "outputs": [],
   "source": [
    "from tensorflow.keras.callbacks import EarlyStopping, ModelCheckpoint\n",
    "\n",
    "callbacks = [\n",
    "    EarlyStopping(\n",
    "        monitor=\"val_accuracy\",\n",
    "        patience=3,\n",
    "        restore_best_weights=True\n",
    "    ),\n",
    "    ModelCheckpoint(\n",
    "        filepath=\"best_model.h5\",\n",
    "        monitor=\"val_accuracy\",\n",
    "        save_best_only=True,\n",
    "        save_weights_only=True,\n",
    "        verbose=1\n",
    "    )\n",
    "]\n"
   ]
  },
  {
   "cell_type": "code",
   "execution_count": 23,
   "id": "af906f17",
   "metadata": {},
   "outputs": [
    {
     "name": "stdout",
     "output_type": "stream",
     "text": [
      "Epoch 1/10\n",
      "92/92 [==============================] - ETA: 0s - loss: 1.6301 - accuracy: 0.2323\n",
      "Epoch 1: val_accuracy improved from -inf to 0.21662, saving model to best_model.h5\n",
      "92/92 [==============================] - 90s 980ms/step - loss: 1.6301 - accuracy: 0.2323 - val_loss: 1.6086 - val_accuracy: 0.2166\n",
      "Epoch 2/10\n",
      "92/92 [==============================] - ETA: 0s - loss: 1.6304 - accuracy: 0.2238\n",
      "Epoch 2: val_accuracy did not improve from 0.21662\n",
      "92/92 [==============================] - 90s 983ms/step - loss: 1.6304 - accuracy: 0.2238 - val_loss: 1.6068 - val_accuracy: 0.2166\n",
      "Epoch 3/10\n",
      "92/92 [==============================] - ETA: 0s - loss: 1.6325 - accuracy: 0.2183\n",
      "Epoch 3: val_accuracy did not improve from 0.21662\n",
      "92/92 [==============================] - 91s 991ms/step - loss: 1.6325 - accuracy: 0.2183 - val_loss: 1.6042 - val_accuracy: 0.2166\n",
      "Epoch 4/10\n",
      "92/92 [==============================] - ETA: 0s - loss: 1.6288 - accuracy: 0.2265\n",
      "Epoch 4: val_accuracy did not improve from 0.21662\n",
      "92/92 [==============================] - 90s 984ms/step - loss: 1.6288 - accuracy: 0.2265 - val_loss: 1.6113 - val_accuracy: 0.2166\n"
     ]
    }
   ],
   "source": [
    "history = model.fit(\n",
    "    train_ds,\n",
    "    validation_data=val_ds,\n",
    "    epochs=10,\n",
    "    callbacks=callbacks\n",
    ")\n"
   ]
  }
 ],
 "metadata": {
  "kernelspec": {
   "display_name": "Python (flower-env)",
   "language": "python",
   "name": "flower-env"
  },
  "language_info": {
   "codemirror_mode": {
    "name": "ipython",
    "version": 3
   },
   "file_extension": ".py",
   "mimetype": "text/x-python",
   "name": "python",
   "nbconvert_exporter": "python",
   "pygments_lexer": "ipython3",
   "version": "3.10.11"
  }
 },
 "nbformat": 4,
 "nbformat_minor": 5
}
