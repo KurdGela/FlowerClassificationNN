{
 "cells": [
  {
   "cell_type": "code",
   "execution_count": null,
   "id": "f99babb1",
   "metadata": {},
   "outputs": [],
   "source": [
    "import tensorflow as tf\n",
    "from tensorflow.keras import layers, models\n",
    "import numpy as np\n",
    "import matplotlib.pyplot as plt\n",
    "import os\n",
    "import tensorflow_datasets as tfds\n"
   ]
  },
  {
   "cell_type": "code",
   "execution_count": null,
   "id": "415b38bf",
   "metadata": {},
   "outputs": [],
   "source": [
    "import google.protobuf\n",
    "\n",
    "print(\"TF:\", tf.__version__)\n",
    "print(\"TFDS:\", tfds.__version__)\n",
    "print(\"protobuf:\", google.protobuf.__version__)\n"
   ]
  },
  {
   "cell_type": "code",
   "execution_count": null,
   "id": "c472c078",
   "metadata": {},
   "outputs": [],
   "source": [
    "dataset, info = tfds.load(\"tf_flowers\", with_info=True, as_supervised=True)\n",
    "train_ds = dataset[\"train\"]\n",
    "print(info)\n"
   ]
  },
  {
   "cell_type": "code",
   "execution_count": null,
   "id": "61f1ef21",
   "metadata": {},
   "outputs": [],
   "source": [
    "IMG_SIZE = 224   # standard input size for many pretrained models\n",
    "BATCH_SIZE = 32  # how many images to feed the model at once\n",
    "\n",
    "# Function to resize and normalize each image\n",
    "def format_example(image, label):\n",
    "    image = tf.image.resize(image, (IMG_SIZE, IMG_SIZE))  # resize to 224x224\n",
    "    image = image / 255.0  # normalize pixel values [0,255] -> [0,1]\n",
    "    return image, label\n",
    "\n",
    "# Apply preprocessing to the dataset\n",
    "train_ds = train_ds.map(format_example)\n",
    "\n",
    "# Shuffle and batch the data\n",
    "train_ds = train_ds.shuffle(1000).batch(BATCH_SIZE).prefetch(tf.data.AUTOTUNE)\n"
   ]
  },
  {
   "cell_type": "code",
   "execution_count": null,
   "id": "ea04b110",
   "metadata": {},
   "outputs": [],
   "source": [
    "# Take one batch from the dataset\n",
    "for images, labels in train_ds.take(1):\n",
    "    plt.figure(figsize=(10, 10))\n",
    "    \n",
    "    for i in range(9):  # show 9 images\n",
    "        ax = plt.subplot(3, 3, i + 1)\n",
    "        plt.imshow(images[i].numpy())  # convert Tensor to NumPy for plotting\n",
    "        plt.title(int(labels[i].numpy()))  # show class index as title\n",
    "        plt.axis(\"off\")\n"
   ]
  }
 ],
 "metadata": {
  "kernelspec": {
   "display_name": "Python (flower-env)",
   "language": "python",
   "name": "flower-env"
  },
  "language_info": {
   "codemirror_mode": {
    "name": "ipython",
    "version": 3
   },
   "file_extension": ".py",
   "mimetype": "text/x-python",
   "name": "python",
   "nbconvert_exporter": "python",
   "pygments_lexer": "ipython3",
   "version": "3.10.11"
  }
 },
 "nbformat": 4,
 "nbformat_minor": 5
}
