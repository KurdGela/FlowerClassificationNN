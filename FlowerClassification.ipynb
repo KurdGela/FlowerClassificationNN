{
 "cells": [
  {
   "cell_type": "code",
   "execution_count": null,
   "id": "f99babb1",
   "metadata": {},
   "outputs": [],
   "source": [
    "# Core deep learning library\n",
    "import tensorflow as tf\n",
    "from tensorflow import keras\n",
    "from tensorflow.keras import layers, models\n",
    "\n",
    "# For scientific computing and handling arrays\n",
    "import numpy as np\n",
    "\n",
    "# For plotting graphs and visualizations\n",
    "import matplotlib.pyplot as plt\n",
    "\n",
    "# For managing files and directories (useful later)\n",
    "import os\n"
   ]
  },
  {
   "cell_type": "code",
   "execution_count": null,
   "id": "415b38bf",
   "metadata": {},
   "outputs": [],
   "source": [
    "import tensorflow_datasets as tfds  # Extra library for datasets\n",
    "\n",
    "# Load dataset\n",
    "dataset, info = tfds.load(\"tf_flowers\", with_info=True, as_supervised=True)\n",
    "train_ds = dataset[\"train\"]\n",
    "\n",
    "# Print info about dataset\n",
    "print(info)\n"
   ]
  },
  {
   "cell_type": "code",
   "execution_count": 1,
   "id": "c472c078",
   "metadata": {},
   "outputs": [
    {
     "name": "stdout",
     "output_type": "stream",
     "text": [
      "TF: 2.12.0\n",
      "TFDS: 4.9.2\n",
      "protobuf: 3.20.3\n",
      "\u001b[1mDownloading and preparing dataset Unknown size (download: Unknown size, generated: Unknown size, total: Unknown size) to C:\\Users\\Luka\\tensorflow_datasets\\tf_flowers\\3.0.1...\u001b[0m\n"
     ]
    },
    {
     "data": {
      "application/vnd.jupyter.widget-view+json": {
       "model_id": "2e36ca05e4c54704a185eb212c8ef00b",
       "version_major": 2,
       "version_minor": 0
      },
      "text/plain": [
       "Dl Completed...: 0 url [00:00, ? url/s]"
      ]
     },
     "metadata": {},
     "output_type": "display_data"
    },
    {
     "data": {
      "application/vnd.jupyter.widget-view+json": {
       "model_id": "5c6ce3602b7b49c38760cd05e877f8cf",
       "version_major": 2,
       "version_minor": 0
      },
      "text/plain": [
       "Dl Size...: 0 MiB [00:00, ? MiB/s]"
      ]
     },
     "metadata": {},
     "output_type": "display_data"
    },
    {
     "data": {
      "application/vnd.jupyter.widget-view+json": {
       "model_id": "634ba2d306504a72b5687ba52ad8ff47",
       "version_major": 2,
       "version_minor": 0
      },
      "text/plain": [
       "Generating splits...:   0%|          | 0/1 [00:00<?, ? splits/s]"
      ]
     },
     "metadata": {},
     "output_type": "display_data"
    },
    {
     "data": {
      "application/vnd.jupyter.widget-view+json": {
       "model_id": "30a1c2345a3a4f79af002aa321c91bdc",
       "version_major": 2,
       "version_minor": 0
      },
      "text/plain": [
       "Generating train examples...: 0 examples [00:00, ? examples/s]"
      ]
     },
     "metadata": {},
     "output_type": "display_data"
    },
    {
     "data": {
      "application/vnd.jupyter.widget-view+json": {
       "model_id": "491082eef7c847ba98a0eebe9f686a8c",
       "version_major": 2,
       "version_minor": 0
      },
      "text/plain": [
       "Shuffling C:\\Users\\Luka\\tensorflow_datasets\\tf_flowers\\3.0.1.incompleteMZ4XVK\\tf_flowers-train.tfrecord*...:  …"
      ]
     },
     "metadata": {},
     "output_type": "display_data"
    },
    {
     "name": "stdout",
     "output_type": "stream",
     "text": [
      "\u001b[1mDataset tf_flowers downloaded and prepared to C:\\Users\\Luka\\tensorflow_datasets\\tf_flowers\\3.0.1. Subsequent calls will reuse this data.\u001b[0m\n",
      "tfds.core.DatasetInfo(\n",
      "    name='tf_flowers',\n",
      "    full_name='tf_flowers/3.0.1',\n",
      "    description=\"\"\"\n",
      "    A large set of images of flowers\n",
      "    \"\"\",\n",
      "    homepage='https://www.tensorflow.org/tutorials/load_data/images',\n",
      "    data_path='C:\\\\Users\\\\Luka\\\\tensorflow_datasets\\\\tf_flowers\\\\3.0.1',\n",
      "    file_format=tfrecord,\n",
      "    download_size=218.21 MiB,\n",
      "    dataset_size=221.83 MiB,\n",
      "    features=FeaturesDict({\n",
      "        'image': Image(shape=(None, None, 3), dtype=uint8),\n",
      "        'label': ClassLabel(shape=(), dtype=int64, num_classes=5),\n",
      "    }),\n",
      "    supervised_keys=('image', 'label'),\n",
      "    disable_shuffling=False,\n",
      "    splits={\n",
      "        'train': <SplitInfo num_examples=3670, num_shards=2>,\n",
      "    },\n",
      "    citation=\"\"\"@ONLINE {tfflowers,\n",
      "    author = \"The TensorFlow Team\",\n",
      "    title = \"Flowers\",\n",
      "    month = \"jan\",\n",
      "    year = \"2019\",\n",
      "    url = \"http://download.tensorflow.org/example_images/flower_photos.tgz\" }\"\"\",\n",
      ")\n"
     ]
    }
   ],
   "source": [
    "import tensorflow as tf, tensorflow_datasets as tfds, google.protobuf\n",
    "\n",
    "print(\"TF:\", tf.__version__)\n",
    "print(\"TFDS:\", tfds.__version__)\n",
    "print(\"protobuf:\", google.protobuf.__version__)\n",
    "\n",
    "dataset, info = tfds.load(\"tf_flowers\", with_info=True, as_supervised=True)\n",
    "print(info)"
   ]
  }
 ],
 "metadata": {
  "kernelspec": {
   "display_name": "Python (flower-env)",
   "language": "python",
   "name": "flower-env"
  },
  "language_info": {
   "codemirror_mode": {
    "name": "ipython",
    "version": 3
   },
   "file_extension": ".py",
   "mimetype": "text/x-python",
   "name": "python",
   "nbconvert_exporter": "python",
   "pygments_lexer": "ipython3",
   "version": "3.10.11"
  }
 },
 "nbformat": 4,
 "nbformat_minor": 5
}
